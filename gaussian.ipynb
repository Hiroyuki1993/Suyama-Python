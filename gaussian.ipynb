{
 "cells": [
  {
   "cell_type": "markdown",
   "metadata": {},
   "source": [
    "# 平均の学習"
   ]
  },
  {
   "cell_type": "code",
   "execution_count": 1,
   "metadata": {
    "collapsed": false
   },
   "outputs": [],
   "source": [
    "%matplotlib inline\n",
    "import numpy as np\n",
    "import matplotlib.pyplot as plt\n",
    "from scipy.stats import norm, gamma"
   ]
  },
  {
   "cell_type": "code",
   "execution_count": 29,
   "metadata": {
    "collapsed": false
   },
   "outputs": [],
   "source": [
    "X = np.random.normal(loc=2, scale=1, size=10)"
   ]
  },
  {
   "cell_type": "code",
   "execution_count": 30,
   "metadata": {
    "collapsed": false
   },
   "outputs": [
    {
     "data": {
      "text/plain": [
       "1.6380667896997299"
      ]
     },
     "execution_count": 30,
     "metadata": {},
     "output_type": "execute_result"
    }
   ],
   "source": [
    "X.mean()"
   ]
  },
  {
   "cell_type": "code",
   "execution_count": 31,
   "metadata": {
    "collapsed": true
   },
   "outputs": [],
   "source": [
    "def fit(X, lam, m, lam_mu):\n",
    "    # X: real vector\n",
    "    # lam: precision of X\n",
    "    # m: mean of prior dist\n",
    "    # lam_mu: precision of prior dist\n",
    "    N = X.shape[0]\n",
    "    hat_lam_mu = N*lam + lam_mu\n",
    "    hat_m = (lam*X.sum() + lam_mu*m) / hat_lam_mu\n",
    "    return hat_m, hat_lam_mu"
   ]
  },
  {
   "cell_type": "code",
   "execution_count": 36,
   "metadata": {
    "collapsed": false
   },
   "outputs": [],
   "source": [
    "hat_m, hat_lam_mu = fit(X, 1, 0, 1)"
   ]
  },
  {
   "cell_type": "code",
   "execution_count": 37,
   "metadata": {
    "collapsed": false
   },
   "outputs": [
    {
     "data": {
      "text/plain": [
       "(1.4891516269997545, 11)"
      ]
     },
     "execution_count": 37,
     "metadata": {},
     "output_type": "execute_result"
    }
   ],
   "source": [
    "hat_m, hat_lam_mu"
   ]
  },
  {
   "cell_type": "code",
   "execution_count": 38,
   "metadata": {
    "collapsed": true
   },
   "outputs": [],
   "source": [
    "x = np.arange(1, 5, 0.1)\n",
    "y = norm.pdf(x, loc=hat_m, scale=1/np.sqrt(hat_lam_mu))"
   ]
  },
  {
   "cell_type": "code",
   "execution_count": 39,
   "metadata": {
    "collapsed": false
   },
   "outputs": [
    {
     "data": {
      "text/plain": [
       "[<matplotlib.lines.Line2D at 0x7f119e768fd0>]"
      ]
     },
     "execution_count": 39,
     "metadata": {},
     "output_type": "execute_result"
    },
    {
     "data": {
      "image/png": "[encoded data removed]",
      "text/plain": [
       "<matplotlib.figure.Figure at 0x7f119e798320>"
      ]
     },
     "metadata": {},
     "output_type": "display_data"
    }
   ],
   "source": [
    "plt.plot(x,y)"
   ]
  },
  {
   "cell_type": "code",
   "execution_count": 44,
   "metadata": {
    "collapsed": true
   },
   "outputs": [],
   "source": [
    "def predict(hat_m, lam, lam_mu):\n",
    "    lam_star = (lam*lam_mu)/(lam+lam_mu)\n",
    "    return np.random.normal(loc = hat_m, scale=1/np.sqrt(lam), size=100)"
   ]
  },
  {
   "cell_type": "code",
   "execution_count": 46,
   "metadata": {
    "collapsed": false
   },
   "outputs": [
    {
     "data": {
      "text/plain": [
       "1.5187466334224977"
      ]
     },
     "execution_count": 46,
     "metadata": {},
     "output_type": "execute_result"
    }
   ],
   "source": [
    "predict(hat_m, 1, hat_lam_mu).mean()"
   ]
  },
  {
   "cell_type": "markdown",
   "metadata": {},
   "source": [
    "# 分散の学習"
   ]
  },
  {
   "cell_type": "code",
   "execution_count": 119,
   "metadata": {
    "collapsed": true
   },
   "outputs": [],
   "source": [
    "lam = 2"
   ]
  },
  {
   "cell_type": "code",
   "execution_count": 120,
   "metadata": {
    "collapsed": true
   },
   "outputs": [],
   "source": [
    "X = np.random.normal(loc=1, scale=1/np.sqrt(lam), size=10)"
   ]
  },
  {
   "cell_type": "code",
   "execution_count": 135,
   "metadata": {
    "collapsed": false
   },
   "outputs": [
    {
     "data": {
      "text/plain": [
       "array([ 0.30740776,  1.38578354,  1.24746728,  0.64872581,  1.70589514,\n",
       "        1.64252727,  1.40224291, -0.34026267,  0.6482644 ,  0.4081157 ])"
      ]
     },
     "execution_count": 135,
     "metadata": {},
     "output_type": "execute_result"
    }
   ],
   "source": [
    "X"
   ]
  },
  {
   "cell_type": "code",
   "execution_count": 123,
   "metadata": {
    "collapsed": true
   },
   "outputs": [],
   "source": [
    "def fit(X, mu, a, b):\n",
    "    # X: real vector\n",
    "    # lam: precision of X\n",
    "    # m: mean of prior dist\n",
    "    # lam_mu: precision of prior dist\n",
    "    N = X.shape[0]\n",
    "    hat_a = a + N/2\n",
    "    hat_b = b + 0.5*((X-mu)**2).sum()\n",
    "    return hat_a, hat_b"
   ]
  },
  {
   "cell_type": "code",
   "execution_count": 124,
   "metadata": {
    "collapsed": false
   },
   "outputs": [],
   "source": [
    "hat_a, hat_b = fit(X, 1, 1, 1)"
   ]
  },
  {
   "cell_type": "code",
   "execution_count": 125,
   "metadata": {
    "collapsed": false
   },
   "outputs": [
    {
     "data": {
      "text/plain": [
       "(6.0, 3.0782120648111424)"
      ]
     },
     "execution_count": 125,
     "metadata": {},
     "output_type": "execute_result"
    }
   ],
   "source": [
    "hat_a, hat_b"
   ]
  },
  {
   "cell_type": "code",
   "execution_count": 126,
   "metadata": {
    "collapsed": true
   },
   "outputs": [],
   "source": [
    "x = np.arange(1, 10, 0.1)\n",
    "y = gamma.pdf(x, a=hat_a, scale=1/hat_b)"
   ]
  },
  {
   "cell_type": "code",
   "execution_count": 127,
   "metadata": {
    "collapsed": false
   },
   "outputs": [
    {
     "data": {
      "text/plain": [
       "[<matplotlib.lines.Line2D at 0x7f119e305c50>]"
      ]
     },
     "execution_count": 127,
     "metadata": {},
     "output_type": "execute_result"
    },
    {
     "data": {
      "image/png": "[encoded data removed]",
      "text/plain": [
       "<matplotlib.figure.Figure at 0x7f119e3e4e80>"
      ]
     },
     "metadata": {},
     "output_type": "display_data"
    }
   ],
   "source": [
    "plt.plot(x,y)"
   ]
  },
  {
   "cell_type": "code",
   "execution_count": 138,
   "metadata": {
    "collapsed": true
   },
   "outputs": [],
   "source": [
    "def predict(mu, a, b):\n",
    "    mu_s = mu\n",
    "    v_s = 2*a\n",
    "    lam_s = a/b\n",
    "    X = np.random.standard_t(df=v_s, size=100) * np.sqrt(lam_s) + mu_s\n",
    "    return X"
   ]
  },
  {
   "cell_type": "code",
   "execution_count": 140,
   "metadata": {
    "collapsed": false
   },
   "outputs": [
    {
     "data": {
      "text/plain": [
       "array([-0.73781675,  0.69271683,  1.20563892, -1.53968605,  1.25529017,\n",
       "        1.61562487,  0.41694533,  1.4041279 ,  2.16323277, -1.45591423,\n",
       "        2.87108744,  2.47704134,  1.28615567,  0.0611744 ,  0.49406732,\n",
       "        0.7117749 ,  2.11386889,  1.85062204,  0.61031273,  1.89271707,\n",
       "        0.27074987,  0.96243738, -0.49911282,  1.926606  ,  1.13794913,\n",
       "        1.19469378,  2.85192181,  0.71807103,  1.64812367, -0.57281431,\n",
       "        0.04543928,  0.19912289, -0.64165607,  0.62252075,  0.43806761,\n",
       "        5.60077539,  1.29851652, -0.50554576,  1.67123646,  2.29732751,\n",
       "        1.61366296, -1.57401026,  2.25157524,  2.62743533,  1.48143916,\n",
       "        1.21539427, -0.15440649,  2.43367199,  1.55715705,  4.22465241,\n",
       "        0.33434316,  0.91000773,  1.06926912, -0.80209434,  0.84281001,\n",
       "        1.33705135, -2.34659431,  1.4285565 ,  1.80272941,  1.25745589,\n",
       "        0.82254849,  0.13788793,  1.05118969,  1.07625585,  2.06022994,\n",
       "        4.29171181,  0.95992593,  3.71803617,  1.83510502,  0.43553002,\n",
       "        0.64035377,  3.10038746,  3.03308597,  0.52216894,  1.87832058,\n",
       "        0.63703427,  2.76067008, -0.59432556,  0.97309032, -0.83479715,\n",
       "        4.25867131,  0.16885672, -2.41209009, -1.29409826,  3.0588469 ,\n",
       "        0.16656906,  0.87281727,  1.3754444 , -0.33127088, -0.05436878,\n",
       "        4.86434056,  5.38673936,  3.03281871,  2.01056973,  0.0763415 ,\n",
       "       -0.09580494,  1.66242436,  2.29086131, -1.82327098,  2.14268544])"
      ]
     },
     "execution_count": 140,
     "metadata": {},
     "output_type": "execute_result"
    }
   ],
   "source": [
    "predict(1, hat_a, hat_b)"
   ]
  },
  {
   "cell_type": "markdown",
   "metadata": {
    "collapsed": true
   },
   "source": [
    "## 平均と分散の学習"
   ]
  },
  {
   "cell_type": "code",
   "execution_count": 28,
   "metadata": {
    "collapsed": true
   },
   "outputs": [],
   "source": [
    "mu = 3\n",
    "lam = 1"
   ]
  },
  {
   "cell_type": "code",
   "execution_count": 29,
   "metadata": {
    "collapsed": true
   },
   "outputs": [],
   "source": [
    "X = np.random.normal(loc=mu, scale=1/np.sqrt(lam), size=10)"
   ]
  },
  {
   "cell_type": "code",
   "execution_count": 30,
   "metadata": {
    "collapsed": false
   },
   "outputs": [
    {
     "data": {
      "text/plain": [
       "array([ 2.91166109,  3.13797661,  2.42939904,  2.90783011,  4.73763835,\n",
       "        2.64689444,  3.18948359,  2.21530962,  4.20735547,  1.86505318])"
      ]
     },
     "execution_count": 30,
     "metadata": {},
     "output_type": "execute_result"
    }
   ],
   "source": [
    "X"
   ]
  },
  {
   "cell_type": "code",
   "execution_count": 31,
   "metadata": {
    "collapsed": true
   },
   "outputs": [],
   "source": [
    "def fit(X, m, beta, a, b):\n",
    "    N = X.shape[0]\n",
    "    hat_beta = beta + N\n",
    "    hat_m = (X.sum() + beta*m)/ hat_beta\n",
    "    hat_a = N/2 + a\n",
    "    hat_b = b + 0.5*((X**2).sum() + beta*(m**2) - hat_beta*(hat_m**2))\n",
    "    return hat_m, hat_beta, hat_a, hat_b"
   ]
  },
  {
   "cell_type": "code",
   "execution_count": 32,
   "metadata": {
    "collapsed": false
   },
   "outputs": [],
   "source": [
    "hat_m, hat_beta, hat_a, hat_b = fit(X, 1, 1, 1, 1)"
   ]
  },
  {
   "cell_type": "code",
   "execution_count": 33,
   "metadata": {
    "collapsed": true
   },
   "outputs": [],
   "source": [
    "x = np.arange(1, 5, 0.01)\n",
    "y = norm.pdf(x, loc=hat_m, scale=1/(hat_beta*lam))"
   ]
  },
  {
   "cell_type": "code",
   "execution_count": 34,
   "metadata": {
    "collapsed": false
   },
   "outputs": [
    {
     "data": {
      "text/plain": [
       "[<matplotlib.lines.Line2D at 0x7f97d982efd0>]"
      ]
     },
     "execution_count": 34,
     "metadata": {},
     "output_type": "execute_result"
    },
    {
     "data": {
      "image/png": "[encoded data removed]",
      "text/plain": [
       "<matplotlib.figure.Figure at 0x7f97d986d588>"
      ]
     },
     "metadata": {},
     "output_type": "display_data"
    }
   ],
   "source": [
    "plt.plot(x,y)"
   ]
  },
  {
   "cell_type": "code",
   "execution_count": 35,
   "metadata": {
    "collapsed": true
   },
   "outputs": [],
   "source": [
    "x = np.arange(0, 3, 0.01)\n",
    "y = gamma.pdf(x, a=hat_a, scale=1/hat_b)"
   ]
  },
  {
   "cell_type": "code",
   "execution_count": 36,
   "metadata": {
    "collapsed": false
   },
   "outputs": [
    {
     "data": {
      "text/plain": [
       "[<matplotlib.lines.Line2D at 0x7f97d981a240>]"
      ]
     },
     "execution_count": 36,
     "metadata": {},
     "output_type": "execute_result"
    },
    {
     "data": {
      "image/png": "[encoded data removed]",
      "text/plain": [
       "<matplotlib.figure.Figure at 0x7f97d9888d68>"
      ]
     },
     "metadata": {},
     "output_type": "display_data"
    }
   ],
   "source": [
    "plt.plot(x,y)"
   ]
  },
  {
   "cell_type": "code",
   "execution_count": 41,
   "metadata": {
    "collapsed": true
   },
   "outputs": [],
   "source": [
    "def predict(m, beta, a, b):\n",
    "    mu_s = m\n",
    "    v_s = 2*a\n",
    "    lam_s = beta*a/((1+beta)*b)\n",
    "    X = np.random.standard_t(df=v_s, size=100) * np.sqrt(lam_s) + mu_s\n",
    "    return X"
   ]
  },
  {
   "cell_type": "code",
   "execution_count": 43,
   "metadata": {
    "collapsed": false
   },
   "outputs": [
    {
     "data": {
      "text/plain": [
       "array([ 2.84863295,  5.62556509,  2.66116004,  1.61996661,  3.86148918,\n",
       "        2.50399606,  3.40524835,  2.50701274,  0.36779403,  6.10810165,\n",
       "        3.35588747,  1.62429245,  2.9102275 ,  3.23233719, -0.50538833,\n",
       "        1.99359841,  4.16244378,  2.12213589,  1.19775443,  3.41899366,\n",
       "        3.16511861,  2.74076214,  3.25813357,  4.07543348,  1.99312313,\n",
       "        1.75030525,  1.60477354,  2.89545233,  1.79257158,  3.78047216,\n",
       "        2.15642276,  1.60258878,  2.81680327,  3.28846894,  3.29113871,\n",
       "        2.50238538,  1.97249448,  4.00598758,  3.29887517,  1.61431133,\n",
       "        3.63440341,  2.14221836,  2.14757942,  2.97819152,  3.24918982,\n",
       "        1.56562616,  3.56899145,  4.36926015,  3.1318158 ,  2.47846464,\n",
       "        3.35152584,  2.54352033,  4.11649584,  3.48869436,  2.24708672,\n",
       "        2.98196687,  2.72135048,  2.65575877,  2.32953838,  2.660297  ,\n",
       "        2.03391463,  2.09046126,  3.05655816,  3.21527635,  3.44735821,\n",
       "        2.97182339,  4.93952387,  1.39216154,  3.61922809,  2.59237964,\n",
       "        3.17710234,  2.90841235,  0.929715  ,  4.23857786,  2.81379734,\n",
       "        1.97172832,  0.54144323,  3.89996425,  2.33713349,  4.33390035,\n",
       "        2.34777222,  4.60065793,  2.40313554,  3.56941034,  4.16798985,\n",
       "        2.38764505,  1.4319538 ,  1.3793818 ,  1.13691137,  1.90062248,\n",
       "        3.95028518,  4.20927206,  0.55296378,  2.99283847,  1.88861696,\n",
       "        3.10430914,  2.4315436 ,  3.04387497,  4.1467188 ,  3.44183468])"
      ]
     },
     "execution_count": 43,
     "metadata": {},
     "output_type": "execute_result"
    }
   ],
   "source": [
    "predict(hat_m, hat_beta, hat_a, hat_b)"
   ]
  },
  {
   "cell_type": "code",
   "execution_count": null,
   "metadata": {
    "collapsed": true
   },
   "outputs": [],
   "source": []
  }
 ],
 "metadata": {
  "kernelspec": {
   "display_name": "Python 3",
   "language": "python",
   "name": "python3"
  },
  "language_info": {
   "codemirror_mode": {
    "name": "ipython",
    "version": 3
   },
   "file_extension": ".py",
   "mimetype": "text/x-python",
   "name": "python",
   "nbconvert_exporter": "python",
   "pygments_lexer": "ipython3",
   "version": "3.5.2"
  }
 },
 "nbformat": 4,
 "nbformat_minor": 0
}
